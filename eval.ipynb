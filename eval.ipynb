{
 "cells": [
  {
   "cell_type": "code",
   "execution_count": 3,
   "metadata": {},
   "outputs": [],
   "source": [
    "passages = [\n",
    "  \"Asteroids are small rocky objects that orbit the Sun. They can be found abundantly in the main asteroid belt between the Mars and Jupiter. Despite their small size in planetary sense, large asteroids can measure 530 kilometres in diameter. These are sometimes called minor planets. Occasionally, asteroids smash into each other, knocking off smaller pieces of rock that are called meteoroids. Their size can range from no bigger than a few molecules to 100 meters in diameter.\",\n",
    "  \"When meteoroids come close enough to be attracted by the Earth, they fall into our atmosphere and become a burning rock due to the friction between the falling objects and air molecules. They are, at this stage, meteors (or shooting stars) that we see in the sky. If the meteoroid does not burn completely in the atmosphere, it'd land on Earth and become “meteorites”.\",\n",
    "  \"Comets are big icy objects coated with black organic materials. Each comet has a frozen part at the core called nucleus. When they nears the Sun, the heat causes some ice to turn into gases, creating an atmosphere called “coma” around the comet. As the comet travels across long distance, the coma may extend hundreds of thousands of kilometres, sometimes forming a long, bright tail. \",\n",
    "  \"Have you ever noticed a white spot on the egg yolk of the egg you just cracked? The white spot is called blastodisc. This is where the sperm enters the egg. The nucleus of the egg is located inside the blastodisc. By the time the fertilised egg is laid, many cycles of cell division would have taken place on the surface of the egg yolk, forming a blastoderm. Compared to the blastoderm, the blastodisc is a smaller and lighter spot and is more visually distinct from the egg yolk.\",\n",
    "  \"Sometimes you might even find blood spots on your egg yolk. Little do people know, all egg yolks actually contain tiny blood vessels that would deliver nutrients to the chick embryo if the egg is fertilised. If the blood vessels are broken during the laying process (usually occur when the hen is being startled), there will be blood spots on the egg yolk. That being said, even if you find blood spot on the egg yolk, the egg is still safe for consumption. It's normal that there's blood spot on egg yolk once in a while, but if it is an on-going occurrence, you might want to check the health condition of the hen that laid those eggs.\",\n",
    "  \"Everyone’s news feeds probably are full of Covid-19 reports these days. But the news on Asian giant hornets, also nicknamed “murder hornets”, gained traction in the US because many are worried that the invading species might decimate the ecological system. The first sight of Asian giant hornet in the US was reported in November last year. What followed was multiple incidents where the entire population of a bee hive were killed. It was an absolutely horrid sight - thousands of honey bees decapitated, dead on the ground. The Asian hornets won't even take over the hive. They attack honey bees, not for their honey or hive, but their thoraxes which they use to feed their young.\",\n",
    "  \"My question is, since these Asian giant hornets have been hanging around in Asia for centuries, why haven't they killed all Asian honey bees already? It turns out that Asian honey bees evolved a defense mechanism to fend off or get back at the hornets. When they face attack from the murder hornets, Asian honey bees would quickly mobilise themselves to surround the hornet in great numbers, like a ball, and flex and flap their wings, creating a really hot environment inside the ball and basically cook the hornet to death. Unfortunately, American honey bees don't exhibit these behaviours when they are attacked.\"\n",
    "]"
   ]
  },
  {
   "cell_type": "code",
   "execution_count": 8,
   "metadata": {},
   "outputs": [
    {
     "name": "stderr",
     "output_type": "stream",
     "text": [
      "Special tokens have been added in the vocabulary, make sure the associated word embeddings are fine-tuned or trained.\n",
      "Special tokens have been added in the vocabulary, make sure the associated word embeddings are fine-tuned or trained.\n"
     ]
    }
   ],
   "source": [
    "from sentence_transformers import SentenceTransformer\n",
    "model_names = ['mpnet-base', 'mpnet-genq-blog', 'multi-qa-MiniLM-L6-cos-v1']\n",
    "model_mpnet_base = SentenceTransformer('./saved_models/mpnet-base')   # bi-encoder used to generate embeddings for questions and contexts, change it to see how different models perform\n",
    "model_genq_blog = SentenceTransformer('./saved_models/mpnet-genq-blog')\n",
    "model_multi_qa_l6 = SentenceTransformer('sentence-transformers/multi-qa-MiniLM-L6-cos-v1')\n",
    "models = [model_mpnet_base, model_genq_blog, model_multi_qa_l6]"
   ]
  },
  {
   "cell_type": "code",
   "execution_count": 4,
   "metadata": {},
   "outputs": [],
   "source": [
    "context_embeds = list(map(lambda m: m.encode(passages), models))\n"
   ]
  },
  {
   "cell_type": "code",
   "execution_count": 9,
   "metadata": {},
   "outputs": [
    {
     "name": "stdout",
     "output_type": "stream",
     "text": [
      "model: mpnet-base\n",
      "\t0.871\tEveryone’s news feeds probably are full of Covid-19 reports these days. But the news on Asian giant hornets, also nicknamed “murder hornets”, gained traction in the US because many are worried that the invading species might decimate the ecological system. The first sight of Asian giant hornet in the US was reported in November last year. What followed was multiple incidents where the entire population of a bee hive were killed. It was an absolutely horrid sight - thousands of honey bees decapitated, dead on the ground. The Asian hornets won't even take over the hive. They attack honey bees, not for their honey or hive, but their thoraxes which they use to feed their young.\n",
      "\t0.870\tWhen meteoroids come close enough to be attracted by the Earth, they fall into our atmosphere and become a burning rock due to the friction between the falling objects and air molecules. They are, at this stage, meteors (or shooting stars) that we see in the sky. If the meteoroid does not burn completely in the atmosphere, it'd land on Earth and become “meteorites”.\n",
      "\t0.866\tMy question is, since these Asian giant hornets have been hanging around in Asia for centuries, why haven't they killed all Asian honey bees already? It turns out that Asian honey bees evolved a defense mechanism to fend off or get back at the hornets. When they face attack from the murder hornets, Asian honey bees would quickly mobilise themselves to surround the hornet in great numbers, like a ball, and flex and flap their wings, creating a really hot environment inside the ball and basically cook the hornet to death. Unfortunately, American honey bees don't exhibit these behaviours when they are attacked.\n",
      "model: mpnet-genq-blog\n",
      "\t0.682\tWhen meteoroids come close enough to be attracted by the Earth, they fall into our atmosphere and become a burning rock due to the friction between the falling objects and air molecules. They are, at this stage, meteors (or shooting stars) that we see in the sky. If the meteoroid does not burn completely in the atmosphere, it'd land on Earth and become “meteorites”.\n",
      "\t0.572\tAsteroids are small rocky objects that orbit the Sun. They can be found abundantly in the main asteroid belt between the Mars and Jupiter. Despite their small size in planetary sense, large asteroids can measure 530 kilometres in diameter. These are sometimes called minor planets. Occasionally, asteroids smash into each other, knocking off smaller pieces of rock that are called meteoroids. Their size can range from no bigger than a few molecules to 100 meters in diameter.\n",
      "\t0.559\tComets are big icy objects coated with black organic materials. Each comet has a frozen part at the core called nucleus. When they nears the Sun, the heat causes some ice to turn into gases, creating an atmosphere called “coma” around the comet. As the comet travels across long distance, the coma may extend hundreds of thousands of kilometres, sometimes forming a long, bright tail. \n",
      "model: multi-qa-MiniLM-L6-cos-v1\n",
      "\t0.219\tComets are big icy objects coated with black organic materials. Each comet has a frozen part at the core called nucleus. When they nears the Sun, the heat causes some ice to turn into gases, creating an atmosphere called “coma” around the comet. As the comet travels across long distance, the coma may extend hundreds of thousands of kilometres, sometimes forming a long, bright tail. \n",
      "\t0.213\tEveryone’s news feeds probably are full of Covid-19 reports these days. But the news on Asian giant hornets, also nicknamed “murder hornets”, gained traction in the US because many are worried that the invading species might decimate the ecological system. The first sight of Asian giant hornet in the US was reported in November last year. What followed was multiple incidents where the entire population of a bee hive were killed. It was an absolutely horrid sight - thousands of honey bees decapitated, dead on the ground. The Asian hornets won't even take over the hive. They attack honey bees, not for their honey or hive, but their thoraxes which they use to feed their young.\n",
      "\t0.210\tWhen meteoroids come close enough to be attracted by the Earth, they fall into our atmosphere and become a burning rock due to the friction between the falling objects and air molecules. They are, at this stage, meteors (or shooting stars) that we see in the sky. If the meteoroid does not burn completely in the atmosphere, it'd land on Earth and become “meteorites”.\n"
     ]
    }
   ],
   "source": [
    "from sentence_transformers import util\n",
    "\n",
    "query = 'What are shooting stars?'\n",
    "\n",
    "for i, model in enumerate(models):\n",
    "    question_embedding = model.encode(query, convert_to_tensor=True)\n",
    "    hits = util.semantic_search(question_embedding, context_embeds[i], top_k=3)[0]\n",
    "    print(f\"model: {model_names[i]}\")\n",
    "    for hit in hits:\n",
    "        print(\"\\t{:.3f}\\t{}\".format(hit['score'], passages[hit['corpus_id']]))"
   ]
  },
  {
   "cell_type": "code",
   "execution_count": 11,
   "metadata": {},
   "outputs": [
    {
     "name": "stdout",
     "output_type": "stream",
     "text": [
      "model: mpnet-base\n",
      "\t0.949\tSometimes you might even find blood spots on your egg yolk. Little do people know, all egg yolks actually contain tiny blood vessels that would deliver nutrients to the chick embryo if the egg is fertilised. If the blood vessels are broken during the laying process (usually occur when the hen is being startled), there will be blood spots on the egg yolk. That being said, even if you find blood spot on the egg yolk, the egg is still safe for consumption. It's normal that there's blood spot on egg yolk once in a while, but if it is an on-going occurrence, you might want to check the health condition of the hen that laid those eggs.\n",
      "\t0.947\tHave you ever noticed a white spot on the egg yolk of the egg you just cracked? The white spot is called blastodisc. This is where the sperm enters the egg. The nucleus of the egg is located inside the blastodisc. By the time the fertilised egg is laid, many cycles of cell division would have taken place on the surface of the egg yolk, forming a blastoderm. Compared to the blastoderm, the blastodisc is a smaller and lighter spot and is more visually distinct from the egg yolk.\n",
      "\t0.922\tMy question is, since these Asian giant hornets have been hanging around in Asia for centuries, why haven't they killed all Asian honey bees already? It turns out that Asian honey bees evolved a defense mechanism to fend off or get back at the hornets. When they face attack from the murder hornets, Asian honey bees would quickly mobilise themselves to surround the hornet in great numbers, like a ball, and flex and flap their wings, creating a really hot environment inside the ball and basically cook the hornet to death. Unfortunately, American honey bees don't exhibit these behaviours when they are attacked.\n",
      "model: mpnet-genq-blog\n",
      "\t0.816\tHave you ever noticed a white spot on the egg yolk of the egg you just cracked? The white spot is called blastodisc. This is where the sperm enters the egg. The nucleus of the egg is located inside the blastodisc. By the time the fertilised egg is laid, many cycles of cell division would have taken place on the surface of the egg yolk, forming a blastoderm. Compared to the blastoderm, the blastodisc is a smaller and lighter spot and is more visually distinct from the egg yolk.\n",
      "\t0.764\tSometimes you might even find blood spots on your egg yolk. Little do people know, all egg yolks actually contain tiny blood vessels that would deliver nutrients to the chick embryo if the egg is fertilised. If the blood vessels are broken during the laying process (usually occur when the hen is being startled), there will be blood spots on the egg yolk. That being said, even if you find blood spot on the egg yolk, the egg is still safe for consumption. It's normal that there's blood spot on egg yolk once in a while, but if it is an on-going occurrence, you might want to check the health condition of the hen that laid those eggs.\n",
      "\t0.381\tWhen meteoroids come close enough to be attracted by the Earth, they fall into our atmosphere and become a burning rock due to the friction between the falling objects and air molecules. They are, at this stage, meteors (or shooting stars) that we see in the sky. If the meteoroid does not burn completely in the atmosphere, it'd land on Earth and become “meteorites”.\n",
      "model: multi-qa-MiniLM-L6-cos-v1\n",
      "\t0.765\tHave you ever noticed a white spot on the egg yolk of the egg you just cracked? The white spot is called blastodisc. This is where the sperm enters the egg. The nucleus of the egg is located inside the blastodisc. By the time the fertilised egg is laid, many cycles of cell division would have taken place on the surface of the egg yolk, forming a blastoderm. Compared to the blastoderm, the blastodisc is a smaller and lighter spot and is more visually distinct from the egg yolk.\n",
      "\t0.579\tSometimes you might even find blood spots on your egg yolk. Little do people know, all egg yolks actually contain tiny blood vessels that would deliver nutrients to the chick embryo if the egg is fertilised. If the blood vessels are broken during the laying process (usually occur when the hen is being startled), there will be blood spots on the egg yolk. That being said, even if you find blood spot on the egg yolk, the egg is still safe for consumption. It's normal that there's blood spot on egg yolk once in a while, but if it is an on-going occurrence, you might want to check the health condition of the hen that laid those eggs.\n",
      "\t0.079\tComets are big icy objects coated with black organic materials. Each comet has a frozen part at the core called nucleus. When they nears the Sun, the heat causes some ice to turn into gases, creating an atmosphere called “coma” around the comet. As the comet travels across long distance, the coma may extend hundreds of thousands of kilometres, sometimes forming a long, bright tail. \n"
     ]
    }
   ],
   "source": [
    "query = 'What is the white spot on an egg yolk?'\n",
    "\n",
    "for i, model in enumerate(models):\n",
    "    question_embedding = model.encode(query, convert_to_tensor=True)\n",
    "    hits = util.semantic_search(question_embedding, context_embeds[i], top_k=3)[0]\n",
    "    print(f\"model: {model_names[i]}\")\n",
    "    for hit in hits:\n",
    "        print(\"\\t{:.3f}\\t{}\".format(hit['score'], passages[hit['corpus_id']]))"
   ]
  }
 ],
 "metadata": {
  "kernelspec": {
   "display_name": "venv",
   "language": "python",
   "name": "python3"
  },
  "language_info": {
   "codemirror_mode": {
    "name": "ipython",
    "version": 3
   },
   "file_extension": ".py",
   "mimetype": "text/x-python",
   "name": "python",
   "nbconvert_exporter": "python",
   "pygments_lexer": "ipython3",
   "version": "3.9.12"
  }
 },
 "nbformat": 4,
 "nbformat_minor": 2
}
